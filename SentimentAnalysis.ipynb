{
  "cells": [
    {
      "cell_type": "markdown",
      "metadata": {
        "id": "view-in-github",
        "colab_type": "text"
      },
      "source": [
        "<a href=\"https://colab.research.google.com/github/saloniasrani/sentimentanalysis/blob/main/SentimentAnalysis.ipynb\" target=\"_parent\"><img src=\"https://colab.research.google.com/assets/colab-badge.svg\" alt=\"Open In Colab\"/></a>"
      ]
    },
    {
      "cell_type": "markdown",
      "metadata": {
        "id": "NaDxbzZ4c4I9"
      },
      "source": [
        "Mounting CSV from drive to colab"
      ]
    },
    {
      "cell_type": "code",
      "execution_count": null,
      "metadata": {
        "colab": {
          "base_uri": "https://localhost:8080/"
        },
        "id": "ZL4oeskPo3pO",
        "outputId": "c4b49eec-f40a-4bdd-f8ee-7b4046e8109a"
      },
      "outputs": [
        {
          "output_type": "stream",
          "name": "stdout",
          "text": [
            "Mounted at /content/drive\n"
          ]
        }
      ],
      "source": [
        "from google.colab import drive\n",
        "drive.mount('/content/drive')"
      ]
    },
    {
      "cell_type": "code",
      "execution_count": null,
      "metadata": {
        "id": "Gm8NkVb6DdSX"
      },
      "outputs": [],
      "source": [
        "import pandas as pd\n",
        "from nltk.corpus import stopwords"
      ]
    },
    {
      "cell_type": "markdown",
      "metadata": {
        "id": "1azE__nwc-s4"
      },
      "source": [
        "Importing dataset into pandas dataframe"
      ]
    },
    {
      "cell_type": "code",
      "execution_count": null,
      "metadata": {
        "id": "CKPMpw_LeVZL"
      },
      "outputs": [],
      "source": [
        "train_document = pd.read_csv(\"/content/drive/MyDrive/SentimentAnalysis/movie.csv\")"
      ]
    },
    {
      "cell_type": "markdown",
      "metadata": {
        "id": "K-4ACBJEdH0X"
      },
      "source": [
        "Downloading important libraries"
      ]
    },
    {
      "cell_type": "code",
      "execution_count": 21,
      "metadata": {
        "colab": {
          "base_uri": "https://localhost:8080/"
        },
        "id": "tecKzU_0EnFQ",
        "outputId": "5ae0090b-a8a3-40d5-d274-a0f4c52158e2"
      },
      "outputs": [
        {
          "output_type": "stream",
          "name": "stderr",
          "text": [
            "[nltk_data] Downloading package maxent_treebank_pos_tagger to\n",
            "[nltk_data]     /root/nltk_data...\n",
            "[nltk_data]   Unzipping taggers/maxent_treebank_pos_tagger.zip.\n",
            "[nltk_data] Downloading package stopwords to /root/nltk_data...\n",
            "[nltk_data]   Package stopwords is already up-to-date!\n",
            "[nltk_data] Downloading package averaged_perceptron_tagger to\n",
            "[nltk_data]     /root/nltk_data...\n",
            "[nltk_data]   Package averaged_perceptron_tagger is already up-to-\n",
            "[nltk_data]       date!\n",
            "[nltk_data] Downloading package wordnet to /root/nltk_data...\n",
            "[nltk_data]   Package wordnet is already up-to-date!\n",
            "[nltk_data] Downloading package omw-1.4 to /root/nltk_data...\n",
            "[nltk_data]   Package omw-1.4 is already up-to-date!\n",
            "[nltk_data] Downloading package punkt to /root/nltk_data...\n",
            "[nltk_data]   Package punkt is already up-to-date!\n",
            "[nltk_data] Downloading package maxent_treebank_pos_tagger to\n",
            "[nltk_data]     /root/nltk_data...\n",
            "[nltk_data]   Package maxent_treebank_pos_tagger is already up-to-\n",
            "[nltk_data]       date!\n"
          ]
        },
        {
          "output_type": "execute_result",
          "data": {
            "text/plain": [
              "True"
            ]
          },
          "metadata": {},
          "execution_count": 21
        }
      ],
      "source": [
        "import nltk\n",
        "nltk.download('maxent_treebank_pos_tagger')\n",
        "nltk.download('stopwords')\n",
        "nltk.download('averaged_perceptron_tagger')\n",
        "nltk.download('wordnet')\n",
        "nltk.download('omw-1.4')\n",
        "nltk.download('punkt')\n",
        "nltk.download('maxent_treebank_pos_tagger')"
      ]
    },
    {
      "cell_type": "markdown",
      "metadata": {
        "id": "quL5hE8WdaK3"
      },
      "source": [
        "Making an array containing tuples of reviews and their corresponding sentiment/category"
      ]
    },
    {
      "cell_type": "code",
      "execution_count": null,
      "metadata": {
        "colab": {
          "base_uri": "https://localhost:8080/"
        },
        "id": "VN4vIvORhdHE",
        "outputId": "a8449e83-ab36-41f6-c3c8-27cf675dc0d4"
      },
      "outputs": [
        {
          "output_type": "execute_result",
          "data": {
            "text/plain": [
              "('I grew up (b. 1965) watching and loving the Thunderbirds. All my mates at school watched. We played \"Thunderbirds\" before school, during lunch and after school. We all wanted to be Virgil or Scott. No one wanted to be Alan. Counting down from 5 became an art form. I took my children to see the movie hoping they would get a glimpse of what I loved as a child. How bitterly disappointing. The only high point was the snappy theme tune. Not that it could compare with the original score of the Thunderbirds. Thankfully early Saturday mornings one television channel still plays reruns of the series Gerry Anderson and his wife created. Jonatha Frakes should hand in his directors chair, his version was completely hopeless. A waste of film. Utter rubbish. A CGI remake may be acceptable but replacing marionettes with Homo sapiens subsp. sapiens was a huge error of judgment.',\n",
              " 0)"
            ]
          },
          "metadata": {},
          "execution_count": 5
        }
      ],
      "source": [
        "documents = [(train_document.iloc[i,0],train_document.iloc[i,1]) for i in range(train_document.shape[0])]\n",
        "documents[0]"
      ]
    },
    {
      "cell_type": "code",
      "execution_count": 38,
      "metadata": {
        "id": "82qvPJtylyUM"
      },
      "outputs": [],
      "source": [
        "from nltk import word_tokenize\n",
        "documents = [(word_tokenize(word),category) for word,category in documents]"
      ]
    },
    {
      "cell_type": "code",
      "execution_count": null,
      "metadata": {
        "id": "xqHPlQUisMJy"
      },
      "outputs": [],
      "source": [
        "documents[:5]"
      ]
    },
    {
      "cell_type": "code",
      "execution_count": 40,
      "metadata": {
        "id": "RbrHa4wSbp3Z"
      },
      "outputs": [],
      "source": [
        "from nltk.corpus import wordnet\n",
        "def get_simple_pos(tag):\n",
        "  if tag.startswith('J'):\n",
        "    return wordnet.ADJ\n",
        "  elif tag.startswith('V'):\n",
        "    return wordnet.VERB\n",
        "  elif tag.startswith('N'):\n",
        "    return wordnet.NOUN\n",
        "  elif tag.startswith('R'):\n",
        "    return wordnet.ADV\n",
        "  else:\n",
        "    return wordnet.NOUN\n",
        "\n",
        "  "
      ]
    },
    {
      "cell_type": "markdown",
      "metadata": {
        "id": "_pkh4-dndRMh"
      },
      "source": [
        "Creating a list of stopwords"
      ]
    },
    {
      "cell_type": "code",
      "execution_count": null,
      "metadata": {
        "id": "-yn_2yE9dLFv"
      },
      "outputs": [],
      "source": [
        "\n",
        "import string\n",
        "stops = stopwords.words('english')\n",
        "punctuations = list(string.punctuation)\n",
        "stops += punctuations\n",
        "stops"
      ]
    },
    {
      "cell_type": "markdown",
      "metadata": {
        "id": "jlKxEE4zd07M"
      },
      "source": [
        "Cleansing of list of words using lemmitizer and removing stop words"
      ]
    },
    {
      "cell_type": "code",
      "execution_count": 42,
      "metadata": {
        "id": "FEouL1izbb7n"
      },
      "outputs": [],
      "source": [
        "from nltk.stem import WordNetLemmatizer\n",
        "lemmatizer = WordNetLemmatizer()"
      ]
    },
    {
      "cell_type": "code",
      "execution_count": 43,
      "metadata": {
        "id": "_4yvu1ukmOsl"
      },
      "outputs": [],
      "source": [
        "from nltk import pos_tag\n",
        "def clean_review(words):\n",
        "  output_words =[]\n",
        "  for w in words:\n",
        "    if w.lower() not in stops:\n",
        "      pos = pos_tag([w])\n",
        "      clean_word = lemmatizer.lemmatize(w, pos=get_simple_pos(pos[0][1]))\n",
        "      output_words.append(clean_word.lower())\n",
        "  return output_words"
      ]
    },
    {
      "cell_type": "code",
      "execution_count": 45,
      "metadata": {
        "id": "eGh5lmx9oPJM"
      },
      "outputs": [],
      "source": [
        "documents = [(clean_review(words), category) for words, category in documents]"
      ]
    },
    {
      "cell_type": "markdown",
      "metadata": {
        "id": "08ZWDTSvePkR"
      },
      "source": [
        "Splitting dataset for training and testing "
      ]
    },
    {
      "cell_type": "code",
      "execution_count": 46,
      "metadata": {
        "id": "md3QEShx0-aW"
      },
      "outputs": [],
      "source": [
        "import random\n",
        "random.shuffle(documents)\n"
      ]
    },
    {
      "cell_type": "code",
      "execution_count": 47,
      "metadata": {
        "colab": {
          "base_uri": "https://localhost:8080/"
        },
        "id": "8n35Qpj3emDh",
        "outputId": "f2413f87-8166-4824-a75a-5c8ff1c6e887"
      },
      "outputs": [
        {
          "output_type": "execute_result",
          "data": {
            "text/plain": [
              "40000"
            ]
          },
          "metadata": {},
          "execution_count": 47
        }
      ],
      "source": [
        "n=len(documents)\n",
        "n"
      ]
    },
    {
      "cell_type": "code",
      "execution_count": 48,
      "metadata": {
        "id": "CbNqiTwHeuIE"
      },
      "outputs": [],
      "source": [
        "n = int(.75*n)"
      ]
    },
    {
      "cell_type": "code",
      "execution_count": 49,
      "metadata": {
        "id": "C0EABTCxHnpx"
      },
      "outputs": [],
      "source": [
        "training_documents = documents[0:n]\n",
        "testing_documents = documents[n:]"
      ]
    },
    {
      "cell_type": "markdown",
      "metadata": {
        "id": "3P7so9r0fN4O"
      },
      "source": [
        "collecting unique words and separating out the top 5000 frequently used words"
      ]
    },
    {
      "cell_type": "code",
      "execution_count": 50,
      "metadata": {
        "id": "IbGiOZq0IC49"
      },
      "outputs": [],
      "source": [
        "all_words = []\n",
        "for doc in training_documents:\n",
        "  all_words+=doc[0]"
      ]
    },
    {
      "cell_type": "code",
      "execution_count": 51,
      "metadata": {
        "id": "7P9AEQkOIeUC"
      },
      "outputs": [],
      "source": [
        "freq = nltk.FreqDist(all_words)\n",
        "common = freq.most_common(5000)\n",
        "features = [i[0] for i in common]\n"
      ]
    },
    {
      "cell_type": "code",
      "execution_count": null,
      "metadata": {
        "id": "mEK-FGyCJR8j"
      },
      "outputs": [],
      "source": [
        "features"
      ]
    },
    {
      "cell_type": "markdown",
      "metadata": {
        "id": "VuzTQHJeJp3N"
      },
      "source": [
        "**Making a feature dictionary for each review**"
      ]
    },
    {
      "cell_type": "code",
      "execution_count": 53,
      "metadata": {
        "id": "YjvZbzGYJ2c4"
      },
      "outputs": [],
      "source": [
        "def get_feature_dict(words):\n",
        "  current_features = {}\n",
        "  word_set = set(words)\n",
        "  for w in features:\n",
        "    current_features[w] = w in word_set\n",
        "  return current_features\n"
      ]
    },
    {
      "cell_type": "code",
      "execution_count": null,
      "metadata": {
        "id": "B7S7WJV-K7qy"
      },
      "outputs": [],
      "source": [
        "get_feature_dict(training_documents[0][0])"
      ]
    },
    {
      "cell_type": "markdown",
      "metadata": {
        "id": "IA5LpqUvNTNA"
      },
      "source": [
        "**Model Training and Testing**"
      ]
    },
    {
      "cell_type": "code",
      "execution_count": 55,
      "metadata": {
        "id": "ZZ75gEvMLI03"
      },
      "outputs": [],
      "source": [
        "training_data = [(get_feature_dict(doc), category) for doc, category in training_documents]"
      ]
    },
    {
      "cell_type": "code",
      "execution_count": 56,
      "metadata": {
        "id": "_AqD7mugLr6m"
      },
      "outputs": [],
      "source": [
        "testing_data = [(get_feature_dict(doc), category) for doc, category in testing_documents]"
      ]
    },
    {
      "cell_type": "code",
      "execution_count": 58,
      "metadata": {
        "id": "GepDve6RMHoE"
      },
      "outputs": [],
      "source": [
        "from nltk import NaiveBayesClassifier\n",
        "classifier = NaiveBayesClassifier.train(training_data)"
      ]
    },
    {
      "cell_type": "code",
      "execution_count": 59,
      "metadata": {
        "id": "rd1xExUGMWPK",
        "colab": {
          "base_uri": "https://localhost:8080/"
        },
        "outputId": "fb99087e-4c3a-49b9-cd86-3a613f40fa9e"
      },
      "outputs": [
        {
          "output_type": "execute_result",
          "data": {
            "text/plain": [
              "0.8534"
            ]
          },
          "metadata": {},
          "execution_count": 59
        }
      ],
      "source": [
        "nltk.classify.accuracy(classifier,testing_data)"
      ]
    },
    {
      "cell_type": "code",
      "execution_count": 60,
      "metadata": {
        "colab": {
          "base_uri": "https://localhost:8080/"
        },
        "id": "BOm4L2IDMtTf",
        "outputId": "05452121-bee2-4655-b664-195999ba059e"
      },
      "outputs": [
        {
          "output_type": "stream",
          "name": "stdout",
          "text": [
            "Most Informative Features\n",
            "                    2/10 = True                0 : 1      =     88.6 : 1.0\n",
            "                    3/10 = True                0 : 1      =     53.1 : 1.0\n",
            "                    1/10 = True                0 : 1      =     38.0 : 1.0\n",
            "                     uwe = True                0 : 1      =     36.2 : 1.0\n",
            "                    4/10 = True                0 : 1      =     35.9 : 1.0\n",
            "                    boll = True                0 : 1      =     35.5 : 1.0\n",
            "                    7/10 = True                1 : 0      =     29.7 : 1.0\n",
            "                    8/10 = True                1 : 0      =     26.5 : 1.0\n",
            "                   worst = True                0 : 1      =     19.7 : 1.0\n",
            "                   mst3k = True                0 : 1      =     19.2 : 1.0\n",
            "                 stinker = True                0 : 1      =     17.7 : 1.0\n",
            "              incoherent = True                0 : 1      =     16.5 : 1.0\n",
            "                    9/10 = True                1 : 0      =     14.9 : 1.0\n",
            "                 moronic = True                0 : 1      =     14.4 : 1.0\n",
            "             unwatchable = True                0 : 1      =     14.1 : 1.0\n"
          ]
        }
      ],
      "source": [
        "classifier.show_most_informative_features(15)"
      ]
    }
  ],
  "metadata": {
    "colab": {
      "collapsed_sections": [],
      "name": "SentimentAnalysis.ipynb",
      "provenance": [],
      "authorship_tag": "ABX9TyNIdBGkx/arkGJ1nQQntIPH",
      "include_colab_link": true
    },
    "kernelspec": {
      "display_name": "Python 3",
      "name": "python3"
    },
    "language_info": {
      "name": "python"
    }
  },
  "nbformat": 4,
  "nbformat_minor": 0
}