{
  "nbformat": 4,
  "nbformat_minor": 0,
  "metadata": {
    "colab": {
      "name": "SentimentAnalysis.ipynb",
      "provenance": [],
      "collapsed_sections": [],
      "toc_visible": true,
      "authorship_tag": "ABX9TyMHPtA1MWtCojHFDmq2Uadt",
      "include_colab_link": true
    },
    "kernelspec": {
      "name": "python3",
      "display_name": "Python 3"
    },
    "language_info": {
      "name": "python"
    }
  },
  "cells": [
    {
      "cell_type": "markdown",
      "metadata": {
        "id": "view-in-github",
        "colab_type": "text"
      },
      "source": [
        "<a href=\"https://colab.research.google.com/github/saloniasrani/sentimentanalysis/blob/main/SentimentAnalysis.ipynb\" target=\"_parent\"><img src=\"https://colab.research.google.com/assets/colab-badge.svg\" alt=\"Open In Colab\"/></a>"
      ]
    },
    {
      "cell_type": "code",
      "execution_count": 1,
      "metadata": {
        "colab": {
          "base_uri": "https://localhost:8080/"
        },
        "id": "LdF7bgalAJIu",
        "outputId": "54c5b2b9-fd44-4bc2-bc93-20779b9c9121"
      },
      "outputs": [
        {
          "output_type": "stream",
          "name": "stdout",
          "text": [
            "Mounted at /content/drive\n"
          ]
        }
      ],
      "source": [
        "from google.colab import drive\n",
        "drive.mount('/content/drive')"
      ]
    },
    {
      "cell_type": "code",
      "source": [
        "import nltk\n",
        "nltk.download('movie_reviews')\n",
        "nltk.download('stopwords')\n",
        "nltk.download('averaged_perceptron_tagger')\n",
        "nltk.download('wordnet')\n",
        "nltk.download('omw-1.4')"
      ],
      "metadata": {
        "colab": {
          "base_uri": "https://localhost:8080/"
        },
        "id": "tecKzU_0EnFQ",
        "outputId": "3bf331e7-8af5-4b9d-c6c7-0e965a5856a5"
      },
      "execution_count": 3,
      "outputs": [
        {
          "output_type": "stream",
          "name": "stderr",
          "text": [
            "[nltk_data] Downloading package movie_reviews to /root/nltk_data...\n",
            "[nltk_data]   Package movie_reviews is already up-to-date!\n",
            "[nltk_data] Downloading package stopwords to /root/nltk_data...\n",
            "[nltk_data]   Package stopwords is already up-to-date!\n",
            "[nltk_data] Downloading package averaged_perceptron_tagger to\n",
            "[nltk_data]     /root/nltk_data...\n",
            "[nltk_data]   Package averaged_perceptron_tagger is already up-to-\n",
            "[nltk_data]       date!\n",
            "[nltk_data] Downloading package wordnet to /root/nltk_data...\n",
            "[nltk_data]   Package wordnet is already up-to-date!\n",
            "[nltk_data] Downloading package omw-1.4 to /root/nltk_data...\n",
            "[nltk_data]   Package omw-1.4 is already up-to-date!\n"
          ]
        },
        {
          "output_type": "execute_result",
          "data": {
            "text/plain": [
              "True"
            ]
          },
          "metadata": {},
          "execution_count": 3
        }
      ]
    },
    {
      "cell_type": "code",
      "source": [
        "from nltk.corpus import movie_reviews\n",
        "from nltk.corpus import stopwords"
      ],
      "metadata": {
        "id": "_GXNBOVJDngP"
      },
      "execution_count": 4,
      "outputs": []
    },
    {
      "cell_type": "code",
      "source": [
        "movie_reviews.categories()"
      ],
      "metadata": {
        "colab": {
          "base_uri": "https://localhost:8080/"
        },
        "id": "I1Yqox_ME443",
        "outputId": "fedca285-37e8-40f9-99b9-1d16e05a5a0b"
      },
      "execution_count": 5,
      "outputs": [
        {
          "output_type": "execute_result",
          "data": {
            "text/plain": [
              "['neg', 'pos']"
            ]
          },
          "metadata": {},
          "execution_count": 5
        }
      ]
    },
    {
      "cell_type": "markdown",
      "source": [
        "Importing dataset into a pandas framework"
      ],
      "metadata": {
        "id": "2WDrrGGMDo1M"
      }
    },
    {
      "cell_type": "code",
      "source": [
        "import pandas as pd\n"
      ],
      "metadata": {
        "id": "Gm8NkVb6DdSX"
      },
      "execution_count": 6,
      "outputs": []
    },
    {
      "cell_type": "code",
      "source": [
        "documents = []\n",
        "for category in movie_reviews.categories():\n",
        "  for fileid in movie_reviews.fileids(category):\n",
        "    documents.append((movie_reviews.words(fileid),category))\n",
        "\n",
        "documents[0:5]    "
      ],
      "metadata": {
        "colab": {
          "base_uri": "https://localhost:8080/"
        },
        "id": "h8I4txmDYP61",
        "outputId": "702b754e-da23-4bb2-d232-fed0cc247b4f"
      },
      "execution_count": 7,
      "outputs": [
        {
          "output_type": "execute_result",
          "data": {
            "text/plain": [
              "[(['plot', ':', 'two', 'teen', 'couples', 'go', 'to', ...], 'neg'),\n",
              " (['the', 'happy', 'bastard', \"'\", 's', 'quick', 'movie', ...], 'neg'),\n",
              " (['it', 'is', 'movies', 'like', 'these', 'that', 'make', ...], 'neg'),\n",
              " (['\"', 'quest', 'for', 'camelot', '\"', 'is', 'warner', ...], 'neg'),\n",
              " (['synopsis', ':', 'a', 'mentally', 'unstable', 'man', ...], 'neg')]"
            ]
          },
          "metadata": {},
          "execution_count": 7
        }
      ]
    },
    {
      "cell_type": "code",
      "source": [
        "import random\n",
        "random.shuffle(documents)\n",
        "documents[0:5]"
      ],
      "metadata": {
        "colab": {
          "base_uri": "https://localhost:8080/"
        },
        "id": "XksJq3vuZZQP",
        "outputId": "bd13cb61-c0f2-4c01-f24d-cb9249f5c395"
      },
      "execution_count": 8,
      "outputs": [
        {
          "output_type": "execute_result",
          "data": {
            "text/plain": [
              "[(['wyatt', 'earp', 'details', 'thirty', '-', 'five', ...], 'neg'),\n",
              " (['the', 'rich', 'man', \"'\", 's', 'wife', 'is', 'one', ...], 'pos'),\n",
              " (['in', '\"', 'the', '13th', 'warrior', ',', '\"', 'arab', ...], 'neg'),\n",
              " (['in', 'tim', 'burton', \"'\", 's', '`', 'sleepy', ...], 'pos'),\n",
              " (['i', 'can', 'imagine', 'how', 'good', 'krippendorf', ...], 'neg')]"
            ]
          },
          "metadata": {},
          "execution_count": 8
        }
      ]
    },
    {
      "cell_type": "code",
      "source": [
        "from nltk.corpus import wordnet\n",
        "def get_simple_pos(tag):\n",
        "  if tag.startswith('J'):\n",
        "    return wordnet.ADJ\n",
        "  elif tag.startswith('V'):\n",
        "    return wordnet.VERB\n",
        "  elif tag.startswith('N'):\n",
        "    return wordnet.NOUN\n",
        "  elif tag.startswith('R'):\n",
        "    return wordnet.ADV\n",
        "  else:\n",
        "    return wordnet.NOUN\n",
        "\n",
        "  "
      ],
      "metadata": {
        "id": "RbrHa4wSbp3Z"
      },
      "execution_count": 9,
      "outputs": []
    },
    {
      "cell_type": "code",
      "source": [
        "\n",
        "import string\n",
        "stops = set(stopwords.words('english'))\n",
        "punctuations = list(string.punctuation)\n",
        "stops.update(punctuations)\n",
        "stops"
      ],
      "metadata": {
        "id": "-yn_2yE9dLFv"
      },
      "execution_count": null,
      "outputs": []
    },
    {
      "cell_type": "code",
      "source": [
        "from nltk.stem import WordNetLemmatizer\n",
        "lemmatizer = WordNetLemmatizer()"
      ],
      "metadata": {
        "id": "FEouL1izbb7n"
      },
      "execution_count": 11,
      "outputs": []
    },
    {
      "cell_type": "code",
      "source": [
        "from nltk import pos_tag\n",
        "def clean_review(words):\n",
        "  output_words =[]\n",
        "  for w in words:\n",
        "    if w.lower() not in stops:\n",
        "      pos = pos_tag([w])\n",
        "      clean_word = lemmatizer.lemmatize(w, pos=get_simple_pos(pos[0][1]))\n",
        "      output_words.append(clean_word.lower())\n",
        "  return output_words"
      ],
      "metadata": {
        "id": "_4yvu1ukmOsl"
      },
      "execution_count": 12,
      "outputs": []
    },
    {
      "cell_type": "code",
      "source": [
        "documents = [(clean_review(document), category) for document, category in documents]"
      ],
      "metadata": {
        "id": "eGh5lmx9oPJM"
      },
      "execution_count": 13,
      "outputs": []
    },
    {
      "cell_type": "code",
      "source": [
        "documents[0]"
      ],
      "metadata": {
        "id": "md3QEShx0-aW"
      },
      "execution_count": null,
      "outputs": []
    },
    {
      "cell_type": "code",
      "source": [
        "training_documents = documents[0:1500]\n",
        "testing_documents = documents[1500:]"
      ],
      "metadata": {
        "id": "C0EABTCxHnpx"
      },
      "execution_count": 16,
      "outputs": []
    },
    {
      "cell_type": "code",
      "source": [
        "all_words = []\n",
        "for doc in training_documents:\n",
        "  all_words+=doc[0]"
      ],
      "metadata": {
        "id": "IbGiOZq0IC49"
      },
      "execution_count": 17,
      "outputs": []
    },
    {
      "cell_type": "code",
      "source": [
        "freq = nltk.FreqDist(all_words)\n",
        "common = freq.most_common(3000)\n",
        "features = [i[0] for i in common]\n"
      ],
      "metadata": {
        "id": "7P9AEQkOIeUC"
      },
      "execution_count": 21,
      "outputs": []
    },
    {
      "cell_type": "code",
      "source": [
        "features"
      ],
      "metadata": {
        "id": "mEK-FGyCJR8j"
      },
      "execution_count": null,
      "outputs": []
    },
    {
      "cell_type": "markdown",
      "source": [
        "**Making a feature dictionary for each review**"
      ],
      "metadata": {
        "id": "VuzTQHJeJp3N"
      }
    },
    {
      "cell_type": "code",
      "source": [
        "def get_feature_dict(words):\n",
        "  current_features = {}\n",
        "  word_set = set(words)\n",
        "  for w in features:\n",
        "    current_features[w] = w in word_set\n",
        "  return current_features\n"
      ],
      "metadata": {
        "id": "YjvZbzGYJ2c4"
      },
      "execution_count": 25,
      "outputs": []
    },
    {
      "cell_type": "code",
      "source": [
        "get_feature_dict(training_documents[0][0])"
      ],
      "metadata": {
        "id": "B7S7WJV-K7qy"
      },
      "execution_count": null,
      "outputs": []
    },
    {
      "cell_type": "markdown",
      "source": [
        "**Model Training and Testing**"
      ],
      "metadata": {
        "id": "IA5LpqUvNTNA"
      }
    },
    {
      "cell_type": "code",
      "source": [
        "training_data = [(get_feature_dict(doc), category) for doc, category in training_documents]"
      ],
      "metadata": {
        "id": "ZZ75gEvMLI03"
      },
      "execution_count": 27,
      "outputs": []
    },
    {
      "cell_type": "code",
      "source": [
        "testing_data = [(get_feature_dict(doc), category) for doc, category in testing_documents]"
      ],
      "metadata": {
        "id": "_AqD7mugLr6m"
      },
      "execution_count": 28,
      "outputs": []
    },
    {
      "cell_type": "code",
      "source": [
        "from nltk import NaiveBayesClassifier\n",
        "classifier = NaiveBayesClassifier.train(training_data)"
      ],
      "metadata": {
        "id": "GepDve6RMHoE"
      },
      "execution_count": 39,
      "outputs": []
    },
    {
      "cell_type": "code",
      "source": [
        "nltk.classify.accuracy(classifier,testing_data)"
      ],
      "metadata": {
        "colab": {
          "base_uri": "https://localhost:8080/"
        },
        "id": "rd1xExUGMWPK",
        "outputId": "593c4df9-a614-415c-e175-12fb7c95f60e"
      },
      "execution_count": 40,
      "outputs": [
        {
          "output_type": "execute_result",
          "data": {
            "text/plain": [
              "0.812"
            ]
          },
          "metadata": {},
          "execution_count": 40
        }
      ]
    },
    {
      "cell_type": "code",
      "source": [
        "classifier.show_most_informative_features(15)"
      ],
      "metadata": {
        "colab": {
          "base_uri": "https://localhost:8080/"
        },
        "id": "BOm4L2IDMtTf",
        "outputId": "7d879331-c91b-4f95-b9f3-221ac380e441"
      },
      "execution_count": 31,
      "outputs": [
        {
          "output_type": "stream",
          "name": "stdout",
          "text": [
            "Most Informative Features\n",
            "             outstanding = True              pos : neg    =     10.8 : 1.0\n",
            "             wonderfully = True              pos : neg    =      9.4 : 1.0\n",
            "                   anger = True              pos : neg    =      8.7 : 1.0\n",
            "               ludicrous = True              neg : pos    =      8.5 : 1.0\n",
            "                  welles = True              neg : pos    =      8.0 : 1.0\n",
            "               stupidity = True              neg : pos    =      7.9 : 1.0\n",
            "             magnificent = True              pos : neg    =      7.6 : 1.0\n",
            "                   inept = True              neg : pos    =      7.5 : 1.0\n",
            "                 stiller = True              pos : neg    =      7.4 : 1.0\n",
            "                  poorly = True              neg : pos    =      6.9 : 1.0\n",
            "                    lame = True              neg : pos    =      6.8 : 1.0\n",
            "                 idiotic = True              neg : pos    =      6.4 : 1.0\n",
            "                   damon = True              pos : neg    =      6.2 : 1.0\n",
            "            breathtaking = True              pos : neg    =      6.1 : 1.0\n",
            "                  alicia = True              neg : pos    =      6.0 : 1.0\n"
          ]
        }
      ]
    },
    {
      "cell_type": "code",
      "source": [
        "from nltk.classify.scikitlearn import SklearnClassifier\n",
        "from sklearn.ensemble import RandomForestClassifier\n",
        "rfc = RandomForestClassifier()\n",
        "classifier_sklearn = SklearnClassifier(rfc)"
      ],
      "metadata": {
        "id": "XfxW45ljbVLL"
      },
      "execution_count": 32,
      "outputs": []
    },
    {
      "cell_type": "code",
      "source": [
        "classifier_sklearn.train(training_data)"
      ],
      "metadata": {
        "colab": {
          "base_uri": "https://localhost:8080/"
        },
        "id": "RYbUPI3xcra_",
        "outputId": "b69e6bca-4e8e-4075-cd48-51506667bba3"
      },
      "execution_count": 35,
      "outputs": [
        {
          "output_type": "execute_result",
          "data": {
            "text/plain": [
              "<SklearnClassifier(RandomForestClassifier())>"
            ]
          },
          "metadata": {},
          "execution_count": 35
        }
      ]
    },
    {
      "cell_type": "code",
      "source": [
        "nltk.classify.accuracy(classifier_sklearn, testing_data)"
      ],
      "metadata": {
        "colab": {
          "base_uri": "https://localhost:8080/"
        },
        "id": "1bPz3sjIcy8m",
        "outputId": "619545b8-4c94-410a-bb92-e3e3b611f664"
      },
      "execution_count": 38,
      "outputs": [
        {
          "output_type": "execute_result",
          "data": {
            "text/plain": [
              "0.804"
            ]
          },
          "metadata": {},
          "execution_count": 38
        }
      ]
    }
  ]
}